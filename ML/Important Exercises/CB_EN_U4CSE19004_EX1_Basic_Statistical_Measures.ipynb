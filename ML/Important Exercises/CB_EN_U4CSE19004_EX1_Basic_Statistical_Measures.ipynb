{
  "nbformat": 4,
  "nbformat_minor": 0,
  "metadata": {
    "kernelspec": {
      "display_name": "Python 3",
      "language": "python",
      "name": "python3"
    },
    "language_info": {
      "codemirror_mode": {
        "name": "ipython",
        "version": 3
      },
      "file_extension": ".py",
      "mimetype": "text/x-python",
      "name": "python",
      "nbconvert_exporter": "python",
      "pygments_lexer": "ipython3",
      "version": "3.5.2"
    },
    "colab": {
      "name": "CB.EN.U4CSE19004 - EX1_Basic Statistical Measures.ipynb",
      "provenance": []
    }
  },
  "cells": [
    {
      "cell_type": "markdown",
      "metadata": {
        "id": "uUDH0eN6Dmch"
      },
      "source": [
        "# **19CSE305:MACHINE LEARNING LAB 4**\n",
        "\n",
        "## Exploratory Data Analysis"
      ]
    },
    {
      "cell_type": "markdown",
      "metadata": {
        "id": "xD_-oDT4DkkJ"
      },
      "source": [
        "# Mean"
      ]
    },
    {
      "cell_type": "code",
      "metadata": {
        "id": "7U0O7q3yDkkO"
      },
      "source": [
        "import numpy as np\n",
        "import pandas as pd"
      ],
      "execution_count": 2,
      "outputs": []
    },
    {
      "cell_type": "code",
      "metadata": {
        "id": "FcCJltyRDkkQ"
      },
      "source": [
        "sample_list = [1, 2, 2, 2, 4, 5, 6, 6, 6, 9, 10, 10, 10, 11, 14, 14, 15, 18, 19, 20]"
      ],
      "execution_count": null,
      "outputs": []
    },
    {
      "cell_type": "code",
      "metadata": {
        "id": "SEWWtnuaDkkQ"
      },
      "source": [
        "def cal_mean(data):\n",
        "    return sum(data)/(len(data)*1.0)"
      ],
      "execution_count": null,
      "outputs": []
    },
    {
      "cell_type": "code",
      "metadata": {
        "colab": {
          "base_uri": "https://localhost:8080/"
        },
        "id": "LwMRWLN-DkkT",
        "outputId": "b0a0c025-41d4-40e7-fc7a-001021870990"
      },
      "source": [
        "cal_mean(sample_list)"
      ],
      "execution_count": null,
      "outputs": [
        {
          "output_type": "execute_result",
          "data": {
            "text/plain": [
              "9.2"
            ]
          },
          "metadata": {
            "tags": []
          },
          "execution_count": 7
        }
      ]
    },
    {
      "cell_type": "code",
      "metadata": {
        "id": "3YEb7uO9DkkV"
      },
      "source": [
        "my_np_list = np.asarray(sample_list)"
      ],
      "execution_count": null,
      "outputs": []
    },
    {
      "cell_type": "code",
      "metadata": {
        "colab": {
          "base_uri": "https://localhost:8080/"
        },
        "id": "VtF6pooRDkkV",
        "outputId": "0abdaa75-acc3-4b4e-e48f-76936afde1f1"
      },
      "source": [
        "np.mean(my_np_list)"
      ],
      "execution_count": null,
      "outputs": [
        {
          "output_type": "execute_result",
          "data": {
            "text/plain": [
              "9.2"
            ]
          },
          "metadata": {
            "tags": []
          },
          "execution_count": 9
        }
      ]
    },
    {
      "cell_type": "markdown",
      "metadata": {
        "id": "D3MLFzE0DkkW"
      },
      "source": [
        "### How mean is affected by extreme points"
      ]
    },
    {
      "cell_type": "code",
      "metadata": {
        "colab": {
          "base_uri": "https://localhost:8080/"
        },
        "id": "0ilYqrT3DkkX",
        "outputId": "7ba40cff-f2ef-4b4f-e6e8-0d886635f5ef"
      },
      "source": [
        "sample_list.append(100)\n",
        "print(\"New List:\",sample_list)"
      ],
      "execution_count": null,
      "outputs": [
        {
          "output_type": "stream",
          "text": [
            "New List: [1, 2, 2, 2, 4, 5, 6, 6, 6, 9, 10, 10, 10, 11, 14, 14, 15, 18, 19, 20, 100]\n"
          ],
          "name": "stdout"
        }
      ]
    },
    {
      "cell_type": "code",
      "metadata": {
        "colab": {
          "base_uri": "https://localhost:8080/"
        },
        "id": "fuBEo_EqDkkX",
        "outputId": "958a9312-6702-47ce-839f-001f20a79ec5"
      },
      "source": [
        "cal_mean(sample_list)"
      ],
      "execution_count": null,
      "outputs": [
        {
          "output_type": "execute_result",
          "data": {
            "text/plain": [
              "13.523809523809524"
            ]
          },
          "metadata": {
            "tags": []
          },
          "execution_count": 14
        }
      ]
    },
    {
      "cell_type": "markdown",
      "metadata": {
        "id": "ehHLnouLDkkY"
      },
      "source": [
        "# Median"
      ]
    },
    {
      "cell_type": "code",
      "metadata": {
        "colab": {
          "base_uri": "https://localhost:8080/"
        },
        "id": "ux5GWAq5DkkY",
        "outputId": "bcf28dea-28c6-40da-cf96-3f7b6cef4680"
      },
      "source": [
        "np.median(sample_list)"
      ],
      "execution_count": null,
      "outputs": [
        {
          "output_type": "execute_result",
          "data": {
            "text/plain": [
              "10.0"
            ]
          },
          "metadata": {
            "tags": []
          },
          "execution_count": 15
        }
      ]
    },
    {
      "cell_type": "code",
      "metadata": {
        "colab": {
          "base_uri": "https://localhost:8080/"
        },
        "id": "2zR6kEGRDkkZ",
        "outputId": "4a4b1bb4-9d29-42bb-e7bd-306e4eb61ce7"
      },
      "source": [
        "sample_list"
      ],
      "execution_count": null,
      "outputs": [
        {
          "output_type": "execute_result",
          "data": {
            "text/plain": [
              "[1, 2, 2, 2, 4, 5, 6, 6, 6, 9, 10, 10, 10, 11, 14, 14, 15, 18, 19, 20, 100]"
            ]
          },
          "metadata": {
            "tags": []
          },
          "execution_count": 16
        }
      ]
    },
    {
      "cell_type": "code",
      "metadata": {
        "colab": {
          "base_uri": "https://localhost:8080/"
        },
        "id": "Jexs6ueADkka",
        "outputId": "1c8336ad-4aec-4cbe-86e2-b35f317103b1"
      },
      "source": [
        "np.median(my_np_list)"
      ],
      "execution_count": null,
      "outputs": [
        {
          "output_type": "execute_result",
          "data": {
            "text/plain": [
              "9.5"
            ]
          },
          "metadata": {
            "tags": []
          },
          "execution_count": 17
        }
      ]
    },
    {
      "cell_type": "code",
      "metadata": {
        "colab": {
          "base_uri": "https://localhost:8080/"
        },
        "id": "L7f0BjglDkka",
        "outputId": "f1ed2ed7-9adb-4a5a-96a7-6c4c01203806"
      },
      "source": [
        "my_np_list"
      ],
      "execution_count": null,
      "outputs": [
        {
          "output_type": "execute_result",
          "data": {
            "text/plain": [
              "array([ 1,  2,  2,  2,  4,  5,  6,  6,  6,  9, 10, 10, 10, 11, 14, 14, 15,\n",
              "       18, 19, 20])"
            ]
          },
          "metadata": {
            "tags": []
          },
          "execution_count": 18
        }
      ]
    },
    {
      "cell_type": "markdown",
      "metadata": {
        "id": "QU9XPgQFDkkb"
      },
      "source": [
        "# Mode"
      ]
    },
    {
      "cell_type": "code",
      "metadata": {
        "id": "bRycSbTEDkkc"
      },
      "source": [
        "from scipy.stats import mode"
      ],
      "execution_count": 8,
      "outputs": []
    },
    {
      "cell_type": "code",
      "metadata": {
        "colab": {
          "base_uri": "https://localhost:8080/"
        },
        "id": "CJcpTI_xDkkc",
        "outputId": "99c6c056-34e5-4f59-af4b-6cbfdc2bac0f"
      },
      "source": [
        "mode(sample_list)"
      ],
      "execution_count": null,
      "outputs": [
        {
          "output_type": "execute_result",
          "data": {
            "text/plain": [
              "ModeResult(mode=array([2]), count=array([3]))"
            ]
          },
          "metadata": {
            "tags": []
          },
          "execution_count": 20
        }
      ]
    },
    {
      "cell_type": "markdown",
      "metadata": {
        "id": "h-yIsY6aDkkc"
      },
      "source": [
        "## Can be used over non-numeric data"
      ]
    },
    {
      "cell_type": "code",
      "metadata": {
        "id": "M-OUZ9RdDkkd"
      },
      "source": [
        "my_list_str = ['a', 'b', 'c', 'a', 'b', 'b', 'c', 'a', 'a', 'b', 'd']"
      ],
      "execution_count": null,
      "outputs": []
    },
    {
      "cell_type": "code",
      "metadata": {
        "colab": {
          "base_uri": "https://localhost:8080/"
        },
        "id": "7q4HoHYuDkkd",
        "outputId": "40e14d8b-d851-49c6-ed53-45399b9e40a5"
      },
      "source": [
        "mode(my_list_str)"
      ],
      "execution_count": null,
      "outputs": [
        {
          "output_type": "execute_result",
          "data": {
            "text/plain": [
              "ModeResult(mode=array(['a'], dtype='<U1'), count=array([4]))"
            ]
          },
          "metadata": {
            "tags": []
          },
          "execution_count": 22
        }
      ]
    },
    {
      "cell_type": "markdown",
      "metadata": {
        "id": "hB4-Dmr_E6Mu"
      },
      "source": [
        "## Variannce and Standard Deviation"
      ]
    },
    {
      "cell_type": "code",
      "metadata": {
        "id": "17TZcnMRDkke"
      },
      "source": [
        "data=np.array([1, 2, 2, 2, 4, 5, 6, 6, 6, 9, 10, 10, 10, 11, 14, 14, 15, 18, 19, 20])"
      ],
      "execution_count": null,
      "outputs": []
    },
    {
      "cell_type": "markdown",
      "metadata": {
        "id": "qkAmyA4hFffk"
      },
      "source": [
        "**Create the data using np.asarray. Differntiate between np.array and np.asarray**"
      ]
    },
    {
      "cell_type": "code",
      "metadata": {
        "colab": {
          "base_uri": "https://localhost:8080/"
        },
        "id": "OI82RpzJFKYU",
        "outputId": "2ae04fc9-b174-43dd-f571-7349d3f668ad"
      },
      "source": [
        "np.var(data)"
      ],
      "execution_count": null,
      "outputs": [
        {
          "output_type": "execute_result",
          "data": {
            "text/plain": [
              "33.66"
            ]
          },
          "metadata": {
            "tags": []
          },
          "execution_count": 24
        }
      ]
    },
    {
      "cell_type": "code",
      "metadata": {
        "colab": {
          "base_uri": "https://localhost:8080/"
        },
        "id": "32ix4fnEFOK5",
        "outputId": "2fd2c4dc-ff8b-417a-b519-b5dd6c0baa6c"
      },
      "source": [
        "np.std(data)"
      ],
      "execution_count": null,
      "outputs": [
        {
          "output_type": "execute_result",
          "data": {
            "text/plain": [
              "5.801723881744114"
            ]
          },
          "metadata": {
            "tags": []
          },
          "execution_count": 25
        }
      ]
    },
    {
      "cell_type": "markdown",
      "metadata": {
        "id": "66BHCKj7GJnT"
      },
      "source": [
        "##  Visualizing Statistical Measures"
      ]
    },
    {
      "cell_type": "code",
      "metadata": {
        "id": "MGrXdEuDFzyF"
      },
      "source": [
        "import seaborn as sns\n",
        "import matplotlib.pyplot as plt"
      ],
      "execution_count": 9,
      "outputs": []
    },
    {
      "cell_type": "code",
      "metadata": {
        "colab": {
          "base_uri": "https://localhost:8080/"
        },
        "id": "FmvlhDg1GT7I",
        "outputId": "ed21be5a-8c20-49bc-91c1-7da2161e286c"
      },
      "source": [
        "#Create random array of normal distribution\n",
        "x=np.random.normal(50,5,3000)\n",
        "print(x)\n",
        "print(x.shape)"
      ],
      "execution_count": 12,
      "outputs": [
        {
          "output_type": "stream",
          "text": [
            "[54.13384326 55.82559994 48.79847149 ... 54.10952299 49.05207472\n",
            " 53.77236809]\n",
            "(3000,)\n"
          ],
          "name": "stdout"
        }
      ]
    },
    {
      "cell_type": "markdown",
      "metadata": {
        "id": "wVXSDzs0H8KU"
      },
      "source": [
        "## **Excercise 1**\n",
        "\n",
        "Find the maximum and minimum and calculate Max-**Min**"
      ]
    },
    {
      "cell_type": "code",
      "metadata": {
        "colab": {
          "base_uri": "https://localhost:8080/"
        },
        "id": "DSUAOt2kGmSy",
        "outputId": "4d58e0be-1797-4956-926f-c93a1682304b"
      },
      "source": [
        "print(\"Max is:\",max(x))\n",
        "print(\"Min is:\",min(x))\n",
        "print(\"Max-Min is:\",max(x)-min(x))\n",
        "#Find the minimum\n",
        "#calculate MAx-Min"
      ],
      "execution_count": 13,
      "outputs": [
        {
          "output_type": "stream",
          "text": [
            "Max is: 66.23808739589624\n",
            "Min is: 32.89332254097806\n",
            "Max-Min is: 33.34476485491818\n"
          ],
          "name": "stdout"
        }
      ]
    },
    {
      "cell_type": "markdown",
      "metadata": {
        "id": "TDRM73NMHN7f"
      },
      "source": [
        "### Frequency Histogram\n"
      ]
    },
    {
      "cell_type": "code",
      "metadata": {
        "colab": {
          "base_uri": "https://localhost:8080/",
          "height": 296
        },
        "id": "8gL-hd2WG0BY",
        "outputId": "658db230-9248-453f-8ead-95ee027760f8"
      },
      "source": [
        "#using Matplot lib\n",
        "\n",
        "plt.hist(x,edgecolor = \"black\")\n",
        "plt.xlabel('Intervals')\n",
        "plt.ylabel('Frequency')"
      ],
      "execution_count": 18,
      "outputs": [
        {
          "output_type": "execute_result",
          "data": {
            "text/plain": [
              "Text(0, 0.5, 'Frequency')"
            ]
          },
          "metadata": {
            "tags": []
          },
          "execution_count": 18
        },
        {
          "output_type": "display_data",
          "data": {
            "image/png": "[encoded data removed]",
            "text/plain": [
              "<Figure size 432x288 with 1 Axes>"
            ]
          },
          "metadata": {
            "tags": [],
            "needs_background": "light"
          }
        }
      ]
    },
    {
      "cell_type": "markdown",
      "metadata": {
        "id": "9iQvXlTfISLg"
      },
      "source": [
        "## **Excercise 2**\n",
        "\n",
        "Plot the frequency histogram using Seaborn. For Seaborn documentation click[ here](https://seaborn.pydata.org/tutorial/distributions.html).\n",
        "\n",
        "\n",
        "\n",
        "*  Plot the histogram with bin size 5\n",
        "*  Plot the histogram with bin size 10\n",
        "*  Plot the histogram with bin size 15\n",
        "*  Plot the histogram with bin size 50\n",
        "*  Plot the histogram with bin size 30\n",
        "\n",
        "Write down your inferences\n",
        "\n",
        "\n",
        "\n"
      ]
    },
    {
      "cell_type": "code",
      "metadata": {
        "colab": {
          "base_uri": "https://localhost:8080/",
          "height": 282
        },
        "id": "wO7G0egMExYU",
        "outputId": "0ae3c113-edf3-41c7-99d3-0b491113befc"
      },
      "source": [
        "sns.histplot(x,binwidth=5)\n"
      ],
      "execution_count": 26,
      "outputs": [
        {
          "output_type": "execute_result",
          "data": {
            "text/plain": [
              "<matplotlib.axes._subplots.AxesSubplot at 0x7f0297e0f8d0>"
            ]
          },
          "metadata": {
            "tags": []
          },
          "execution_count": 26
        },
        {
          "output_type": "display_data",
          "data": {
            "image/png": "[encoded data removed]",
            "text/plain": [
              "<Figure size 432x288 with 1 Axes>"
            ]
          },
          "metadata": {
            "tags": [],
            "needs_background": "light"
          }
        }
      ]
    },
    {
      "cell_type": "code",
      "metadata": {
        "colab": {
          "base_uri": "https://localhost:8080/",
          "height": 283
        },
        "id": "UCDvd-1KF4YY",
        "outputId": "8f38e9d5-08b3-4dba-ae24-7bcb66aadb71"
      },
      "source": [
        "sns.histplot(x, binwidth=10)\n"
      ],
      "execution_count": 28,
      "outputs": [
        {
          "output_type": "execute_result",
          "data": {
            "text/plain": [
              "<matplotlib.axes._subplots.AxesSubplot at 0x7f0297d82e10>"
            ]
          },
          "metadata": {
            "tags": []
          },
          "execution_count": 28
        },
        {
          "output_type": "display_data",
          "data": {
            "image/png": "[encoded data removed]",
            "text/plain": [
              "<Figure size 432x288 with 1 Axes>"
            ]
          },
          "metadata": {
            "tags": [],
            "needs_background": "light"
          }
        }
      ]
    },
    {
      "cell_type": "code",
      "metadata": {
        "colab": {
          "base_uri": "https://localhost:8080/",
          "height": 282
        },
        "id": "PJvc1_KxGJe8",
        "outputId": "4ab89d20-5bf0-4be2-dbc9-1d190c11582a"
      },
      "source": [
        "sns.histplot(x, binwidth=15)"
      ],
      "execution_count": 29,
      "outputs": [
        {
          "output_type": "execute_result",
          "data": {
            "text/plain": [
              "<matplotlib.axes._subplots.AxesSubplot at 0x7f0297d0fa50>"
            ]
          },
          "metadata": {
            "tags": []
          },
          "execution_count": 29
        },
        {
          "output_type": "display_data",
          "data": {
            "image/png": "[encoded data removed]",
            "text/plain": [
              "<Figure size 432x288 with 1 Axes>"
            ]
          },
          "metadata": {
            "tags": [],
            "needs_background": "light"
          }
        }
      ]
    },
    {
      "cell_type": "code",
      "metadata": {
        "colab": {
          "base_uri": "https://localhost:8080/",
          "height": 282
        },
        "id": "8M56knEWGMvb",
        "outputId": "95e6f20d-7c55-4e84-f0d8-99cbb483011b"
      },
      "source": [
        "sns.histplot(x, binwidth=50)"
      ],
      "execution_count": 30,
      "outputs": [
        {
          "output_type": "execute_result",
          "data": {
            "text/plain": [
              "<matplotlib.axes._subplots.AxesSubplot at 0x7f0297cc6750>"
            ]
          },
          "metadata": {
            "tags": []
          },
          "execution_count": 30
        },
        {
          "output_type": "display_data",
          "data": {
            "image/png": "[encoded data removed]",
            "text/plain": [
              "<Figure size 432x288 with 1 Axes>"
            ]
          },
          "metadata": {
            "tags": [],
            "needs_background": "light"
          }
        }
      ]
    },
    {
      "cell_type": "code",
      "metadata": {
        "colab": {
          "base_uri": "https://localhost:8080/",
          "height": 282
        },
        "id": "_0LTLhXnGS_A",
        "outputId": "f972b5ae-f470-46ec-a331-b1b383922635"
      },
      "source": [
        "sns.histplot(x, binwidth=30)"
      ],
      "execution_count": 31,
      "outputs": [
        {
          "output_type": "execute_result",
          "data": {
            "text/plain": [
              "<matplotlib.axes._subplots.AxesSubplot at 0x7f0297cc6910>"
            ]
          },
          "metadata": {
            "tags": []
          },
          "execution_count": 31
        },
        {
          "output_type": "display_data",
          "data": {
            "image/png": "[encoded data removed]",
            "text/plain": [
              "<Figure size 432x288 with 1 Axes>"
            ]
          },
          "metadata": {
            "tags": [],
            "needs_background": "light"
          }
        }
      ]
    },
    {
      "cell_type": "markdown",
      "metadata": {
        "id": "b6jmTDxqJsVY"
      },
      "source": [
        "## Density Plot\n",
        "\n",
        "KDE(Kernal Density Estimation):A histogram aims to approximate the underlying probability density function that generated the data by binning and counting observations. Kernel density estimation (KDE) presents a different solution to the same problem. Rather than using discrete bins, a KDE plot smooths the observations with a Gaussian kernel, producing a continuous density estimate:"
      ]
    },
    {
      "cell_type": "code",
      "metadata": {
        "colab": {
          "base_uri": "https://localhost:8080/",
          "height": 386
        },
        "id": "_Vw-1S_3HgLS",
        "outputId": "fe29f8ed-59de-4dae-cd30-d02d4fa7a646"
      },
      "source": [
        "sns.displot(x,  kind=\"kde\")"
      ],
      "execution_count": 32,
      "outputs": [
        {
          "output_type": "execute_result",
          "data": {
            "text/plain": [
              "<seaborn.axisgrid.FacetGrid at 0x7f0297d0f710>"
            ]
          },
          "metadata": {
            "tags": []
          },
          "execution_count": 32
        },
        {
          "output_type": "display_data",
          "data": {
            "image/png": "[encoded data removed]",
            "text/plain": [
              "<Figure size 360x360 with 1 Axes>"
            ]
          },
          "metadata": {
            "tags": [],
            "needs_background": "light"
          }
        }
      ]
    },
    {
      "cell_type": "code",
      "metadata": {
        "colab": {
          "base_uri": "https://localhost:8080/",
          "height": 386
        },
        "id": "uxff1A0EKE28",
        "outputId": "b1b0fa35-d867-4c89-c9fb-920944293c1b"
      },
      "source": [
        "sns.displot(x,  kde='True',bins=10)\n",
        "plt.ylabel('Density')"
      ],
      "execution_count": 34,
      "outputs": [
        {
          "output_type": "execute_result",
          "data": {
            "text/plain": [
              "Text(3.799999999999997, 0.5, 'Density')"
            ]
          },
          "metadata": {
            "tags": []
          },
          "execution_count": 34
        },
        {
          "output_type": "display_data",
          "data": {
            "image/png": "[encoded data removed]",
            "text/plain": [
              "<Figure size 360x360 with 1 Axes>"
            ]
          },
          "metadata": {
            "tags": [],
            "needs_background": "light"
          }
        }
      ]
    },
    {
      "cell_type": "code",
      "metadata": {
        "colab": {
          "base_uri": "https://localhost:8080/",
          "height": 319
        },
        "id": "EZ7HqX7dKlxw",
        "outputId": "62fd065f-10f6-4f43-8926-c63a9473fed7"
      },
      "source": [
        "#Plotting mean and median\n",
        "plt.axvline(x.mean(), color='b', linestyle='dashed', linewidth=1)\n",
        "plt.axvline(np.median(x), color='r', linestyle='dashed', linewidth=2)\n",
        "sns.distplot(x, kde=True, bins=30, hist=False)\n",
        "plt.ylabel('Density')\n",
        "plt.show()"
      ],
      "execution_count": 35,
      "outputs": [
        {
          "output_type": "stream",
          "text": [
            "/usr/local/lib/python3.7/dist-packages/seaborn/distributions.py:2557: FutureWarning: `distplot` is a deprecated function and will be removed in a future version. Please adapt your code to use either `displot` (a figure-level function with similar flexibility) or `kdeplot` (an axes-level function for kernel density plots).\n",
            "  warnings.warn(msg, FutureWarning)\n"
          ],
          "name": "stderr"
        },
        {
          "output_type": "display_data",
          "data": {
            "image/png": "[encoded data removed]",
            "text/plain": [
              "<Figure size 432x288 with 1 Axes>"
            ]
          },
          "metadata": {
            "tags": [],
            "needs_background": "light"
          }
        }
      ]
    },
    {
      "cell_type": "code",
      "metadata": {
        "colab": {
          "base_uri": "https://localhost:8080/"
        },
        "id": "LdRjjN61K348",
        "outputId": "238262ca-163f-4351-a9be-756a4923cd67"
      },
      "source": [
        "print(\"Mean: \", np.mean(x))\n",
        "print(\"Median: \", np.median(x))"
      ],
      "execution_count": 36,
      "outputs": [
        {
          "output_type": "stream",
          "text": [
            "Mean:  50.10016395208129\n",
            "Median:  50.169647926089354\n"
          ],
          "name": "stdout"
        }
      ]
    },
    {
      "cell_type": "markdown",
      "metadata": {
        "id": "FZmYpuT-LtOC"
      },
      "source": [
        "## Quartiles"
      ]
    },
    {
      "cell_type": "code",
      "metadata": {
        "colab": {
          "base_uri": "https://localhost:8080/"
        },
        "id": "ot0qa0TvLxod",
        "outputId": "56820f09-61bb-4e19-e01c-5b6357355fed"
      },
      "source": [
        "my_list = [1, 2, 2, 2, 4, 5, 6, 6, 6, 9, 10, 10, 10, 11, 14, 14, 15, 18, 19, 20]\n",
        "print(my_list)"
      ],
      "execution_count": 37,
      "outputs": [
        {
          "output_type": "stream",
          "text": [
            "[1, 2, 2, 2, 4, 5, 6, 6, 6, 9, 10, 10, 10, 11, 14, 14, 15, 18, 19, 20]\n"
          ],
          "name": "stdout"
        }
      ]
    },
    {
      "cell_type": "code",
      "metadata": {
        "colab": {
          "base_uri": "https://localhost:8080/"
        },
        "id": "DCWra8-pL0LD",
        "outputId": "a63614b2-cdd4-4e37-d824-4f5a735c68e4"
      },
      "source": [
        "import numpy as np\n",
        "np.percentile(my_list, 10)"
      ],
      "execution_count": 38,
      "outputs": [
        {
          "output_type": "execute_result",
          "data": {
            "text/plain": [
              "2.0"
            ]
          },
          "metadata": {
            "tags": []
          },
          "execution_count": 38
        }
      ]
    },
    {
      "cell_type": "code",
      "metadata": {
        "id": "X8Fkpyv9L6c2",
        "colab": {
          "base_uri": "https://localhost:8080/"
        },
        "outputId": "b3dbafc2-6dd6-42b1-b8dc-f2a319e37887"
      },
      "source": [
        "np.percentile(my_list, 65)"
      ],
      "execution_count": 39,
      "outputs": [
        {
          "output_type": "execute_result",
          "data": {
            "text/plain": [
              "10.35"
            ]
          },
          "metadata": {
            "tags": []
          },
          "execution_count": 39
        }
      ]
    },
    {
      "cell_type": "code",
      "metadata": {
        "id": "kUh3xgvLL9en",
        "colab": {
          "base_uri": "https://localhost:8080/"
        },
        "outputId": "3cde998c-830a-41f0-aba2-b103a2b3de2d"
      },
      "source": [
        "np.percentile(my_list, 99)"
      ],
      "execution_count": 40,
      "outputs": [
        {
          "output_type": "execute_result",
          "data": {
            "text/plain": [
              "19.81"
            ]
          },
          "metadata": {
            "tags": []
          },
          "execution_count": 40
        }
      ]
    },
    {
      "cell_type": "code",
      "metadata": {
        "id": "VkjgNonGL_Wf",
        "colab": {
          "base_uri": "https://localhost:8080/"
        },
        "outputId": "094cc921-7692-4a47-ef20-1fcfbfb15b5e"
      },
      "source": [
        "Q1 = np.percentile(my_list,25)\n",
        "Q2 = np.percentile(my_list,50)\n",
        "Q3 = np.percentile(my_list,75)\n",
        "print(\"Q1: \",Q1)\n",
        "print(\"Q2: \",Q2)\n",
        "print(\"Median:\",np.median(my_list))\n",
        "print(\"Q3: \",Q3)\n"
      ],
      "execution_count": 41,
      "outputs": [
        {
          "output_type": "stream",
          "text": [
            "Q1:  4.75\n",
            "Q2:  9.5\n",
            "Median: 9.5\n",
            "Q3:  14.0\n"
          ],
          "name": "stdout"
        }
      ]
    },
    {
      "cell_type": "code",
      "metadata": {
        "id": "bDyl8YvbMYkC",
        "colab": {
          "base_uri": "https://localhost:8080/"
        },
        "outputId": "e035b4e3-5615-4f94-d692-8d48cc294ea6"
      },
      "source": [
        "IQR=Q3-Q1\n",
        "print(\"Inter Quartile Range: \",IQR)"
      ],
      "execution_count": 42,
      "outputs": [
        {
          "output_type": "stream",
          "text": [
            "Inter Quartile Range:  9.25\n"
          ],
          "name": "stdout"
        }
      ]
    },
    {
      "cell_type": "markdown",
      "metadata": {
        "id": "G9Uh87t9LPlO"
      },
      "source": [
        "## Box Plots"
      ]
    },
    {
      "cell_type": "code",
      "metadata": {
        "colab": {
          "base_uri": "https://localhost:8080/",
          "height": 282
        },
        "id": "OiGd8_RkK_je",
        "outputId": "3bf573d2-26f3-418f-d2bb-fc8edb475564"
      },
      "source": [
        "my_list = [1, 2, 2, 2, 4, 5, 6, 6, 6, 9, 10, 10, 10, 11, 14, 14, 15, 18,19, 20]\n",
        "\n",
        "# Convert the list to dataframe and add column name\n",
        "df = pd.DataFrame(my_list, columns=['Sample data'])\n",
        "\n",
        "# Plot using seaborm\n",
        "sns.boxplot(data=df)\n",
        "\n",
        "# Add ylabel\n",
        "plt.ylabel('Data points')"
      ],
      "execution_count": 43,
      "outputs": [
        {
          "output_type": "execute_result",
          "data": {
            "text/plain": [
              "Text(0, 0.5, 'Data points')"
            ]
          },
          "metadata": {
            "tags": []
          },
          "execution_count": 43
        },
        {
          "output_type": "display_data",
          "data": {
            "image/png": "[encoded data removed]",
            "text/plain": [
              "<Figure size 432x288 with 1 Axes>"
            ]
          },
          "metadata": {
            "tags": [],
            "needs_background": "light"
          }
        }
      ]
    },
    {
      "cell_type": "code",
      "metadata": {
        "colab": {
          "base_uri": "https://localhost:8080/"
        },
        "id": "wZdy3GAWLj4S",
        "outputId": "6bd82385-3257-4604-8258-aa028abe3f65"
      },
      "source": [
        "np.percentile(my_list, [25, 50, 75])"
      ],
      "execution_count": 44,
      "outputs": [
        {
          "output_type": "execute_result",
          "data": {
            "text/plain": [
              "array([ 4.75,  9.5 , 14.  ])"
            ]
          },
          "metadata": {
            "tags": []
          },
          "execution_count": 44
        }
      ]
    },
    {
      "cell_type": "markdown",
      "metadata": {
        "id": "BWgik3RBO9-2"
      },
      "source": [
        "### **Using IQR to identify outliers**"
      ]
    },
    {
      "cell_type": "code",
      "metadata": {
        "id": "kYsLau6RPA6E"
      },
      "source": [
        "dummy_age = [20, 21, 24, 24, 28, 26, 19, 22, 26, 24, 21,\n",
        "            19, 22, 28, 29, 6, 100, 25, 25, 28, 31]\n",
        "dummy_height = [150, 151, 155, 153, 280, 160, 158, 157, 158, 145, 150,\n",
        "               155, 155, 151, 152, 153, 160, 152, 157, 157, 160, 153]\n",
        "dummy_df = pd.DataFrame(list(zip(dummy_age, dummy_height)),\n",
        "                        columns =['Age', 'Height(cm)'])"
      ],
      "execution_count": 45,
      "outputs": []
    },
    {
      "cell_type": "code",
      "metadata": {
        "colab": {
          "base_uri": "https://localhost:8080/",
          "height": 703
        },
        "id": "u873aReuPHmL",
        "outputId": "87725a12-1bb6-4379-853c-fea9149a1f8e"
      },
      "source": [
        "\n",
        "dummy_df"
      ],
      "execution_count": 46,
      "outputs": [
        {
          "output_type": "execute_result",
          "data": {
            "text/html": [
              "<div>\n",
              "<style scoped>\n",
              "    .dataframe tbody tr th:only-of-type {\n",
              "        vertical-align: middle;\n",
              "    }\n",
              "\n",
              "    .dataframe tbody tr th {\n",
              "        vertical-align: top;\n",
              "    }\n",
              "\n",
              "    .dataframe thead th {\n",
              "        text-align: right;\n",
              "    }\n",
              "</style>\n",
              "<table border=\"1\" class=\"dataframe\">\n",
              "  <thead>\n",
              "    <tr style=\"text-align: right;\">\n",
              "      <th></th>\n",
              "      <th>Age</th>\n",
              "      <th>Height(cm)</th>\n",
              "    </tr>\n",
              "  </thead>\n",
              "  <tbody>\n",
              "    <tr>\n",
              "      <th>0</th>\n",
              "      <td>20</td>\n",
              "      <td>150</td>\n",
              "    </tr>\n",
              "    <tr>\n",
              "      <th>1</th>\n",
              "      <td>21</td>\n",
              "      <td>151</td>\n",
              "    </tr>\n",
              "    <tr>\n",
              "      <th>2</th>\n",
              "      <td>24</td>\n",
              "      <td>155</td>\n",
              "    </tr>\n",
              "    <tr>\n",
              "      <th>3</th>\n",
              "      <td>24</td>\n",
              "      <td>153</td>\n",
              "    </tr>\n",
              "    <tr>\n",
              "      <th>4</th>\n",
              "      <td>28</td>\n",
              "      <td>280</td>\n",
              "    </tr>\n",
              "    <tr>\n",
              "      <th>5</th>\n",
              "      <td>26</td>\n",
              "      <td>160</td>\n",
              "    </tr>\n",
              "    <tr>\n",
              "      <th>6</th>\n",
              "      <td>19</td>\n",
              "      <td>158</td>\n",
              "    </tr>\n",
              "    <tr>\n",
              "      <th>7</th>\n",
              "      <td>22</td>\n",
              "      <td>157</td>\n",
              "    </tr>\n",
              "    <tr>\n",
              "      <th>8</th>\n",
              "      <td>26</td>\n",
              "      <td>158</td>\n",
              "    </tr>\n",
              "    <tr>\n",
              "      <th>9</th>\n",
              "      <td>24</td>\n",
              "      <td>145</td>\n",
              "    </tr>\n",
              "    <tr>\n",
              "      <th>10</th>\n",
              "      <td>21</td>\n",
              "      <td>150</td>\n",
              "    </tr>\n",
              "    <tr>\n",
              "      <th>11</th>\n",
              "      <td>19</td>\n",
              "      <td>155</td>\n",
              "    </tr>\n",
              "    <tr>\n",
              "      <th>12</th>\n",
              "      <td>22</td>\n",
              "      <td>155</td>\n",
              "    </tr>\n",
              "    <tr>\n",
              "      <th>13</th>\n",
              "      <td>28</td>\n",
              "      <td>151</td>\n",
              "    </tr>\n",
              "    <tr>\n",
              "      <th>14</th>\n",
              "      <td>29</td>\n",
              "      <td>152</td>\n",
              "    </tr>\n",
              "    <tr>\n",
              "      <th>15</th>\n",
              "      <td>6</td>\n",
              "      <td>153</td>\n",
              "    </tr>\n",
              "    <tr>\n",
              "      <th>16</th>\n",
              "      <td>100</td>\n",
              "      <td>160</td>\n",
              "    </tr>\n",
              "    <tr>\n",
              "      <th>17</th>\n",
              "      <td>25</td>\n",
              "      <td>152</td>\n",
              "    </tr>\n",
              "    <tr>\n",
              "      <th>18</th>\n",
              "      <td>25</td>\n",
              "      <td>157</td>\n",
              "    </tr>\n",
              "    <tr>\n",
              "      <th>19</th>\n",
              "      <td>28</td>\n",
              "      <td>157</td>\n",
              "    </tr>\n",
              "    <tr>\n",
              "      <th>20</th>\n",
              "      <td>31</td>\n",
              "      <td>160</td>\n",
              "    </tr>\n",
              "  </tbody>\n",
              "</table>\n",
              "</div>"
            ],
            "text/plain": [
              "    Age  Height(cm)\n",
              "0    20         150\n",
              "1    21         151\n",
              "2    24         155\n",
              "3    24         153\n",
              "4    28         280\n",
              "5    26         160\n",
              "6    19         158\n",
              "7    22         157\n",
              "8    26         158\n",
              "9    24         145\n",
              "10   21         150\n",
              "11   19         155\n",
              "12   22         155\n",
              "13   28         151\n",
              "14   29         152\n",
              "15    6         153\n",
              "16  100         160\n",
              "17   25         152\n",
              "18   25         157\n",
              "19   28         157\n",
              "20   31         160"
            ]
          },
          "metadata": {
            "tags": []
          },
          "execution_count": 46
        }
      ]
    },
    {
      "cell_type": "code",
      "metadata": {
        "id": "DiwQyWjtPIJH"
      },
      "source": [
        "def get_lower_upper_bound(my_data):\n",
        "    # Get first and third quartile\n",
        "    q1 = np.percentile(my_data, 25)\n",
        "    q3 = np.percentile(my_data, 75)\n",
        "    \n",
        "    # Calculate Interquartile range\n",
        "    iqr = q3 - q1\n",
        "    \n",
        "    # Compute lower and upper bound\n",
        "    lower_bound = q1 - (iqr * 1.5)\n",
        "    upper_bound = q3 + (iqr * 1.5)\n",
        "    \n",
        "    return lower_bound, upper_bound"
      ],
      "execution_count": 47,
      "outputs": []
    },
    {
      "cell_type": "code",
      "metadata": {
        "id": "_83UbHB-POQm"
      },
      "source": [
        "def get_outliers_iqr(my_data):\n",
        "    lower_bound, upper_bound = get_lower_upper_bound(my_data)\n",
        "    # Filter data less than lower bound and more than upper bound\n",
        "    return my_data[np.where((my_data > upper_bound) |\n",
        "                            (my_data < lower_bound))]"
      ],
      "execution_count": 48,
      "outputs": []
    },
    {
      "cell_type": "code",
      "metadata": {
        "colab": {
          "base_uri": "https://localhost:8080/"
        },
        "id": "BbifhK_nPQiS",
        "outputId": "49228cf8-9983-4bdf-f25b-9a79509b3aa8"
      },
      "source": [
        "\n",
        "get_outliers_iqr(dummy_df['Age'].values)"
      ],
      "execution_count": 49,
      "outputs": [
        {
          "output_type": "execute_result",
          "data": {
            "text/plain": [
              "array([  6, 100])"
            ]
          },
          "metadata": {
            "tags": []
          },
          "execution_count": 49
        }
      ]
    },
    {
      "cell_type": "code",
      "metadata": {
        "colab": {
          "base_uri": "https://localhost:8080/"
        },
        "id": "S_MomuKUPSfy",
        "outputId": "4ecb1964-3bf7-4ba3-e4a6-cd26eb3b637c"
      },
      "source": [
        "get_outliers_iqr(dummy_df['Height(cm)'].values)"
      ],
      "execution_count": 50,
      "outputs": [
        {
          "output_type": "execute_result",
          "data": {
            "text/plain": [
              "array([280])"
            ]
          },
          "metadata": {
            "tags": []
          },
          "execution_count": 50
        }
      ]
    },
    {
      "cell_type": "code",
      "metadata": {
        "colab": {
          "base_uri": "https://localhost:8080/",
          "height": 282
        },
        "id": "uu4sPmXGPUSz",
        "outputId": "d89d550e-a6a4-4ed1-fc0b-f3e0713c4ff4"
      },
      "source": [
        "dummy_df.boxplot(column=['Age'])"
      ],
      "execution_count": 51,
      "outputs": [
        {
          "output_type": "execute_result",
          "data": {
            "text/plain": [
              "<matplotlib.axes._subplots.AxesSubplot at 0x7f0298376590>"
            ]
          },
          "metadata": {
            "tags": []
          },
          "execution_count": 51
        },
        {
          "output_type": "display_data",
          "data": {
            "image/png": "[encoded data removed]",
            "text/plain": [
              "<Figure size 432x288 with 1 Axes>"
            ]
          },
          "metadata": {
            "tags": [],
            "needs_background": "light"
          }
        }
      ]
    },
    {
      "cell_type": "code",
      "metadata": {
        "colab": {
          "base_uri": "https://localhost:8080/",
          "height": 282
        },
        "id": "grtyVvCRPWS8",
        "outputId": "5cc63ac5-cf2c-40fa-9c9e-ec59a4b2861d"
      },
      "source": [
        "dummy_df.boxplot(column=['Height(cm)'])"
      ],
      "execution_count": 52,
      "outputs": [
        {
          "output_type": "execute_result",
          "data": {
            "text/plain": [
              "<matplotlib.axes._subplots.AxesSubplot at 0x7f0298586ed0>"
            ]
          },
          "metadata": {
            "tags": []
          },
          "execution_count": 52
        },
        {
          "output_type": "display_data",
          "data": {
            "image/png": "[encoded data removed]",
            "text/plain": [
              "<Figure size 432x288 with 1 Axes>"
            ]
          },
          "metadata": {
            "tags": [],
            "needs_background": "light"
          }
        }
      ]
    },
    {
      "cell_type": "markdown",
      "metadata": {
        "id": "IIVK3IS0HnMi"
      },
      "source": [
        "### **Find the Outliers using Z score**\n",
        "\n",
        "[Click here](https://www.statisticshowto.com/probability-and-statistics/z-score/) to read about What is Z score??\n",
        "\n",
        "[Click here ](https://medium.com/clarusway/z-score-and-how-its-used-to-determine-an-outlier-642110f3b482)to read about outlier detection using Z score"
      ]
    },
    {
      "cell_type": "code",
      "metadata": {
        "id": "p1qegfHYPaUL",
        "colab": {
          "base_uri": "https://localhost:8080/",
          "height": 421
        },
        "outputId": "96cd149c-8ba1-40d4-e9d2-0b6b39bad373"
      },
      "source": [
        "x,y = 50,10\n",
        "s = np.random.normal(x,y,100)\n",
        "s[85] = 120\n",
        "s[15] = -120\n",
        "df = pd.DataFrame(s,columns = ['Data'])\n",
        "for i in df.columns:\n",
        "  "
      ],
      "execution_count": 54,
      "outputs": [
        {
          "output_type": "execute_result",
          "data": {
            "text/html": [
              "<div>\n",
              "<style scoped>\n",
              "    .dataframe tbody tr th:only-of-type {\n",
              "        vertical-align: middle;\n",
              "    }\n",
              "\n",
              "    .dataframe tbody tr th {\n",
              "        vertical-align: top;\n",
              "    }\n",
              "\n",
              "    .dataframe thead th {\n",
              "        text-align: right;\n",
              "    }\n",
              "</style>\n",
              "<table border=\"1\" class=\"dataframe\">\n",
              "  <thead>\n",
              "    <tr style=\"text-align: right;\">\n",
              "      <th></th>\n",
              "      <th>Data</th>\n",
              "    </tr>\n",
              "  </thead>\n",
              "  <tbody>\n",
              "    <tr>\n",
              "      <th>0</th>\n",
              "      <td>61.706329</td>\n",
              "    </tr>\n",
              "    <tr>\n",
              "      <th>1</th>\n",
              "      <td>24.498142</td>\n",
              "    </tr>\n",
              "    <tr>\n",
              "      <th>2</th>\n",
              "      <td>54.967080</td>\n",
              "    </tr>\n",
              "    <tr>\n",
              "      <th>3</th>\n",
              "      <td>54.828599</td>\n",
              "    </tr>\n",
              "    <tr>\n",
              "      <th>4</th>\n",
              "      <td>43.233638</td>\n",
              "    </tr>\n",
              "    <tr>\n",
              "      <th>...</th>\n",
              "      <td>...</td>\n",
              "    </tr>\n",
              "    <tr>\n",
              "      <th>95</th>\n",
              "      <td>69.751109</td>\n",
              "    </tr>\n",
              "    <tr>\n",
              "      <th>96</th>\n",
              "      <td>62.034746</td>\n",
              "    </tr>\n",
              "    <tr>\n",
              "      <th>97</th>\n",
              "      <td>40.865773</td>\n",
              "    </tr>\n",
              "    <tr>\n",
              "      <th>98</th>\n",
              "      <td>38.088739</td>\n",
              "    </tr>\n",
              "    <tr>\n",
              "      <th>99</th>\n",
              "      <td>37.766777</td>\n",
              "    </tr>\n",
              "  </tbody>\n",
              "</table>\n",
              "<p>100 rows × 1 columns</p>\n",
              "</div>"
            ],
            "text/plain": [
              "         Data\n",
              "0   61.706329\n",
              "1   24.498142\n",
              "2   54.967080\n",
              "3   54.828599\n",
              "4   43.233638\n",
              "..        ...\n",
              "95  69.751109\n",
              "96  62.034746\n",
              "97  40.865773\n",
              "98  38.088739\n",
              "99  37.766777\n",
              "\n",
              "[100 rows x 1 columns]"
            ]
          },
          "metadata": {
            "tags": []
          },
          "execution_count": 54
        }
      ]
    },
    {
      "cell_type": "code",
      "metadata": {
        "colab": {
          "base_uri": "https://localhost:8080/",
          "height": 205
        },
        "id": "Jc-o_SUTOc54",
        "outputId": "986e89da-9b1f-4353-9ec2-e4783bd9be69"
      },
      "source": [
        "for col in df.columns:\n",
        "  col_zscore = col + '_zscore'\n",
        "  df[col_zscore] = (df[col] - df[col].mean())/df[col].std(ddof=0)\n",
        "df.head()"
      ],
      "execution_count": 55,
      "outputs": [
        {
          "output_type": "execute_result",
          "data": {
            "text/html": [
              "<div>\n",
              "<style scoped>\n",
              "    .dataframe tbody tr th:only-of-type {\n",
              "        vertical-align: middle;\n",
              "    }\n",
              "\n",
              "    .dataframe tbody tr th {\n",
              "        vertical-align: top;\n",
              "    }\n",
              "\n",
              "    .dataframe thead th {\n",
              "        text-align: right;\n",
              "    }\n",
              "</style>\n",
              "<table border=\"1\" class=\"dataframe\">\n",
              "  <thead>\n",
              "    <tr style=\"text-align: right;\">\n",
              "      <th></th>\n",
              "      <th>Data</th>\n",
              "      <th>Data_zscore</th>\n",
              "    </tr>\n",
              "  </thead>\n",
              "  <tbody>\n",
              "    <tr>\n",
              "      <th>0</th>\n",
              "      <td>61.706329</td>\n",
              "      <td>0.622460</td>\n",
              "    </tr>\n",
              "    <tr>\n",
              "      <th>1</th>\n",
              "      <td>24.498142</td>\n",
              "      <td>-1.156388</td>\n",
              "    </tr>\n",
              "    <tr>\n",
              "      <th>2</th>\n",
              "      <td>54.967080</td>\n",
              "      <td>0.300270</td>\n",
              "    </tr>\n",
              "    <tr>\n",
              "      <th>3</th>\n",
              "      <td>54.828599</td>\n",
              "      <td>0.293650</td>\n",
              "    </tr>\n",
              "    <tr>\n",
              "      <th>4</th>\n",
              "      <td>43.233638</td>\n",
              "      <td>-0.260682</td>\n",
              "    </tr>\n",
              "  </tbody>\n",
              "</table>\n",
              "</div>"
            ],
            "text/plain": [
              "        Data  Data_zscore\n",
              "0  61.706329     0.622460\n",
              "1  24.498142    -1.156388\n",
              "2  54.967080     0.300270\n",
              "3  54.828599     0.293650\n",
              "4  43.233638    -0.260682"
            ]
          },
          "metadata": {
            "tags": []
          },
          "execution_count": 55
        }
      ]
    },
    {
      "cell_type": "code",
      "metadata": {
        "colab": {
          "base_uri": "https://localhost:8080/",
          "height": 205
        },
        "id": "YFjSUshQOhas",
        "outputId": "eec0a2e6-b60a-4a91-c628-4e962304cdc1"
      },
      "source": [
        "df['outlier'] = (abs(df['Data_zscore'])>3).astype(int)\n",
        "df.tail()"
      ],
      "execution_count": 57,
      "outputs": [
        {
          "output_type": "execute_result",
          "data": {
            "text/html": [
              "<div>\n",
              "<style scoped>\n",
              "    .dataframe tbody tr th:only-of-type {\n",
              "        vertical-align: middle;\n",
              "    }\n",
              "\n",
              "    .dataframe tbody tr th {\n",
              "        vertical-align: top;\n",
              "    }\n",
              "\n",
              "    .dataframe thead th {\n",
              "        text-align: right;\n",
              "    }\n",
              "</style>\n",
              "<table border=\"1\" class=\"dataframe\">\n",
              "  <thead>\n",
              "    <tr style=\"text-align: right;\">\n",
              "      <th></th>\n",
              "      <th>Data</th>\n",
              "      <th>Data_zscore</th>\n",
              "      <th>outlier</th>\n",
              "    </tr>\n",
              "  </thead>\n",
              "  <tbody>\n",
              "    <tr>\n",
              "      <th>95</th>\n",
              "      <td>69.751109</td>\n",
              "      <td>1.007065</td>\n",
              "      <td>0</td>\n",
              "    </tr>\n",
              "    <tr>\n",
              "      <th>96</th>\n",
              "      <td>62.034746</td>\n",
              "      <td>0.638161</td>\n",
              "      <td>0</td>\n",
              "    </tr>\n",
              "    <tr>\n",
              "      <th>97</th>\n",
              "      <td>40.865773</td>\n",
              "      <td>-0.373884</td>\n",
              "      <td>0</td>\n",
              "    </tr>\n",
              "    <tr>\n",
              "      <th>98</th>\n",
              "      <td>38.088739</td>\n",
              "      <td>-0.506649</td>\n",
              "      <td>0</td>\n",
              "    </tr>\n",
              "    <tr>\n",
              "      <th>99</th>\n",
              "      <td>37.766777</td>\n",
              "      <td>-0.522041</td>\n",
              "      <td>0</td>\n",
              "    </tr>\n",
              "  </tbody>\n",
              "</table>\n",
              "</div>"
            ],
            "text/plain": [
              "         Data  Data_zscore  outlier\n",
              "95  69.751109     1.007065        0\n",
              "96  62.034746     0.638161        0\n",
              "97  40.865773    -0.373884        0\n",
              "98  38.088739    -0.506649        0\n",
              "99  37.766777    -0.522041        0"
            ]
          },
          "metadata": {
            "tags": []
          },
          "execution_count": 57
        }
      ]
    },
    {
      "cell_type": "code",
      "metadata": {
        "colab": {
          "base_uri": "https://localhost:8080/",
          "height": 111
        },
        "id": "72jLGVcVOnSK",
        "outputId": "03f514bb-1a17-4093-e19f-6c9d5b6d9c6b"
      },
      "source": [
        "df.loc[df.outlier == 1]"
      ],
      "execution_count": 58,
      "outputs": [
        {
          "output_type": "execute_result",
          "data": {
            "text/html": [
              "<div>\n",
              "<style scoped>\n",
              "    .dataframe tbody tr th:only-of-type {\n",
              "        vertical-align: middle;\n",
              "    }\n",
              "\n",
              "    .dataframe tbody tr th {\n",
              "        vertical-align: top;\n",
              "    }\n",
              "\n",
              "    .dataframe thead th {\n",
              "        text-align: right;\n",
              "    }\n",
              "</style>\n",
              "<table border=\"1\" class=\"dataframe\">\n",
              "  <thead>\n",
              "    <tr style=\"text-align: right;\">\n",
              "      <th></th>\n",
              "      <th>Data</th>\n",
              "      <th>Data_zscore</th>\n",
              "      <th>outlier</th>\n",
              "    </tr>\n",
              "  </thead>\n",
              "  <tbody>\n",
              "    <tr>\n",
              "      <th>15</th>\n",
              "      <td>-120.0</td>\n",
              "      <td>-8.064551</td>\n",
              "      <td>1</td>\n",
              "    </tr>\n",
              "    <tr>\n",
              "      <th>85</th>\n",
              "      <td>120.0</td>\n",
              "      <td>3.409362</td>\n",
              "      <td>1</td>\n",
              "    </tr>\n",
              "  </tbody>\n",
              "</table>\n",
              "</div>"
            ],
            "text/plain": [
              "     Data  Data_zscore  outlier\n",
              "15 -120.0    -8.064551        1\n",
              "85  120.0     3.409362        1"
            ]
          },
          "metadata": {
            "tags": []
          },
          "execution_count": 58
        }
      ]
    },
    {
      "cell_type": "code",
      "metadata": {
        "colab": {
          "base_uri": "https://localhost:8080/"
        },
        "id": "9jnT24cLOo_v",
        "outputId": "eb750757-f794-405b-e77f-bcde82426e51"
      },
      "source": [
        "df.outlier.value_counts()"
      ],
      "execution_count": 59,
      "outputs": [
        {
          "output_type": "execute_result",
          "data": {
            "text/plain": [
              "0    98\n",
              "1     2\n",
              "Name: outlier, dtype: int64"
            ]
          },
          "metadata": {
            "tags": []
          },
          "execution_count": 59
        }
      ]
    },
    {
      "cell_type": "code",
      "metadata": {
        "colab": {
          "base_uri": "https://localhost:8080/"
        },
        "id": "N-zdyQAtOsxQ",
        "outputId": "4d363a32-70ac-4785-fe24-0bf4b0d8d567"
      },
      "source": [
        "print('Number of outliers = '+ str(df.outlier.value_counts()[1]))"
      ],
      "execution_count": 60,
      "outputs": [
        {
          "output_type": "stream",
          "text": [
            "Number of outliers = 2\n"
          ],
          "name": "stdout"
        }
      ]
    }
  ]
}