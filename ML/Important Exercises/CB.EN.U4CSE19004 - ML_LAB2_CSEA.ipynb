{
  "nbformat": 4,
  "nbformat_minor": 0,
  "metadata": {
    "colab": {
      "name": "ML_LAB2_CSEA.ipynb",
      "provenance": [],
      "collapsed_sections": []
    },
    "kernelspec": {
      "name": "python3",
      "display_name": "Python 3"
    },
    "language_info": {
      "name": "python"
    }
  },
  "cells": [
    {
      "cell_type": "markdown",
      "metadata": {
        "id": "vg3ioKqvpQ3O"
      },
      "source": [
        "# **19CSE305: MACHINE LEARNING LAB 2**\n",
        "\n",
        "PYTHON BASICS : EXCERCISES"
      ]
    },
    {
      "cell_type": "markdown",
      "metadata": {
        "id": "burmJnBypUxF"
      },
      "source": [
        "ROLL NUMBER: CB.EN.U4CSE19004"
      ]
    },
    {
      "cell_type": "code",
      "metadata": {
        "id": "hrgW4a0CJs34"
      },
      "source": [
        "PYTHON BASIC EXCERSISE\n",
        "\n",
        "1)Get two positive integers start and end from the user and write a Python program to print all Prime numbers in that Interval.\n",
        "2) Given a list of strings( Entered by the user), write program to get a percentage share of each word in the strings list.\n",
        "percentage := (Occurrence of a word / Total words) * 100\n",
        "3)Check if  given number is Fibonacci number or not. Given an integer ‘n’( Entered by the user), write a Python function that returns true if n  is Fibonacci number else return false.\n",
        "4)Write a program to check if all digits of a number divide it. Given a number n( Entered by the user), find whether all digits of n divide it or not.\n",
        "5)Get a given array as input from the user and split it from a specified position, and move the first part of array add to the end.\n",
        "example:\n",
        "Input : {1, 2, 3, 4, 5}, k = 3\n",
        "Output :{4,5,1,2,3}\n",
        "\n",
        "\n",
        "NUMPY BASIC EXCERSISE\n",
        "\n",
        "1) Create a 2D array of shape 4x5 that contains random decimal numbers between 3 and 10.\n",
        "2) Create a randomly created 1D array and Convert it to a 2D array with 2 rows.\n",
        "3) Given a NumPy array of temperature values, convert the values of Fahrenheit degrees into Centigrade degrees. \n",
        "4) Write a NumPy program to count the number of dimensions, number of elements and number of bytes for each element in a given array.\n",
        "5) Write a NumPy program to extract third and fourth elements of the second and third rows from a given (3x4) array.\n",
        "\n"
      ],
      "execution_count": null,
      "outputs": []
    },
    {
      "cell_type": "markdown",
      "metadata": {
        "id": "yXNaRlLNBoGw"
      },
      "source": [
        "PYTHON BASIC EXCERSISE"
      ]
    },
    {
      "cell_type": "markdown",
      "metadata": {
        "id": "Hvp1Y1GH3ggJ"
      },
      "source": [
        "1."
      ]
    },
    {
      "cell_type": "code",
      "metadata": {
        "colab": {
          "base_uri": "https://localhost:8080/"
        },
        "id": "TkbRBsK73f4T",
        "outputId": "3bd25855-d1be-439e-f339-0212aa18165d"
      },
      "source": [
        "a = int(input(\"Enter the start number : \"))\n",
        "b = int(input(\"Enter the end number : \"))\n",
        "for i in range(a,b+1):\n",
        "  if(i > 1):\n",
        "    for j in range(2,i):\n",
        "      if(i % j == 0 ):\n",
        "        break\n",
        "    else:\n",
        "      print(i)\n",
        "      \n",
        "\n"
      ],
      "execution_count": 9,
      "outputs": [
        {
          "output_type": "stream",
          "text": [
            "Enter the start number : 1\n",
            "Enter the end number : 10\n",
            "2\n",
            "3\n",
            "5\n",
            "7\n"
          ],
          "name": "stdout"
        }
      ]
    },
    {
      "cell_type": "markdown",
      "metadata": {
        "id": "kJGIQ7bP7saJ"
      },
      "source": [
        "4."
      ]
    },
    {
      "cell_type": "code",
      "metadata": {
        "colab": {
          "base_uri": "https://localhost:8080/"
        },
        "id": "f5b7GZkz6AfJ",
        "outputId": "92923dc1-aae0-46cd-cca4-7331320094af"
      },
      "source": [
        "n = int(input(\"enter the number: \"))\n",
        "def numcheck(n):\n",
        "  while(n > 0):\n",
        "    d = n%10\n",
        "    if((d !=0 and n%d == 0) == False ):\n",
        "      return False\n",
        "    n = n//10\n",
        "  return True\n",
        "x = numcheck(n)\n",
        "if (x):\n",
        "  print(\"Divisible\")\n",
        "else:\n",
        "  print(\"Not Divisible\")\n",
        "\n",
        "     \n"
      ],
      "execution_count": 11,
      "outputs": [
        {
          "output_type": "stream",
          "text": [
            "enter the number: 244\n",
            "Divisible\n"
          ],
          "name": "stdout"
        }
      ]
    },
    {
      "cell_type": "markdown",
      "metadata": {
        "id": "L5-1_ygj7z2p"
      },
      "source": [
        "Numpy Basic Exercise"
      ]
    },
    {
      "cell_type": "markdown",
      "metadata": {
        "id": "HQVen0d598Jt"
      },
      "source": [
        "1."
      ]
    },
    {
      "cell_type": "code",
      "metadata": {
        "colab": {
          "base_uri": "https://localhost:8080/"
        },
        "id": "rR04uvcI97ne",
        "outputId": "fe74690c-2c5d-4a49-912d-c414033bb85c"
      },
      "source": [
        "import numpy as np\n",
        "arr = np.random.randint(3,10,(4,5))\n",
        "print(arr)\n"
      ],
      "execution_count": 18,
      "outputs": [
        {
          "output_type": "stream",
          "text": [
            "[[8 4 6 9 4]\n",
            " [7 9 6 4 3]\n",
            " [7 7 7 3 3]\n",
            " [9 3 5 9 3]]\n"
          ],
          "name": "stdout"
        }
      ]
    },
    {
      "cell_type": "markdown",
      "metadata": {
        "id": "6Uh2acsB-xFS"
      },
      "source": [
        "2."
      ]
    },
    {
      "cell_type": "code",
      "metadata": {
        "colab": {
          "base_uri": "https://localhost:8080/"
        },
        "id": "Vh59G2vP-wU3",
        "outputId": "1e3d0510-c431-430f-93b3-5b300cd758d5"
      },
      "source": [
        "arr = np.random.randint(0,10,(10))\n",
        "print(arr)\n",
        "arr.reshape(2,5)"
      ],
      "execution_count": 19,
      "outputs": [
        {
          "output_type": "stream",
          "text": [
            "[0 5 0 6 2 1 5 2 8 6]\n"
          ],
          "name": "stdout"
        },
        {
          "output_type": "execute_result",
          "data": {
            "text/plain": [
              "array([[0, 5, 0, 6, 2],\n",
              "       [1, 5, 2, 8, 6]])"
            ]
          },
          "metadata": {
            "tags": []
          },
          "execution_count": 19
        }
      ]
    },
    {
      "cell_type": "markdown",
      "metadata": {
        "id": "MClmdofx_R3h"
      },
      "source": [
        "3."
      ]
    },
    {
      "cell_type": "code",
      "metadata": {
        "colab": {
          "base_uri": "https://localhost:8080/"
        },
        "id": "UPty1RcO-oJX",
        "outputId": "12467667-8db8-4e89-b824-ff3e89dfb774"
      },
      "source": [
        "arr = [100,105,109,107,210]\n",
        "arr = np.array(arr)\n",
        "c = [(f - 32)*5/9 for f in arr]\n",
        "print(c)"
      ],
      "execution_count": 23,
      "outputs": [
        {
          "output_type": "stream",
          "text": [
            "[37.77777777777778, 40.55555555555556, 42.77777777777778, 41.666666666666664, 98.88888888888889]\n"
          ],
          "name": "stdout"
        }
      ]
    },
    {
      "cell_type": "markdown",
      "metadata": {
        "id": "reXNib8c8un0"
      },
      "source": [
        "4."
      ]
    },
    {
      "cell_type": "code",
      "metadata": {
        "colab": {
          "base_uri": "https://localhost:8080/"
        },
        "id": "wrbR5vJ87krQ",
        "outputId": "70d81f78-ddf7-4d48-c39c-5be908cafda1"
      },
      "source": [
        "import numpy as np\n",
        "arr = np.array([[1,2,3],[3,4,5],[4,5,6]]) \n",
        "print(arr)\n",
        "print(\"Dimensions: \")\n",
        "print(arr.ndim)\n",
        "print(\"Elements: \")\n",
        "print(arr.size)\n",
        "print(\"Size of element: \")\n",
        "print(arr.itemsize)"
      ],
      "execution_count": 13,
      "outputs": [
        {
          "output_type": "stream",
          "text": [
            "[[1 2 3]\n",
            " [3 4 5]\n",
            " [4 5 6]]\n",
            "Dimensions: \n",
            "2\n",
            "Elements: \n",
            "9\n",
            "Size of element: \n",
            "8\n"
          ],
          "name": "stdout"
        }
      ]
    },
    {
      "cell_type": "markdown",
      "metadata": {
        "id": "F0rqAV0rBAWD"
      },
      "source": [
        "5."
      ]
    },
    {
      "cell_type": "code",
      "metadata": {
        "colab": {
          "base_uri": "https://localhost:8080/"
        },
        "id": "qWv-3lWjA_aT",
        "outputId": "472f9929-9a3a-4a80-e969-8f65dea3440a"
      },
      "source": [
        "import numpy as np\n",
        "arr = np.arange(1,13)\n",
        "arr = arr.reshape(3,4)\n",
        "print(arr)\n",
        "print(arr[1:3,2:4])"
      ],
      "execution_count": 26,
      "outputs": [
        {
          "output_type": "stream",
          "text": [
            "[[ 1  2  3  4]\n",
            " [ 5  6  7  8]\n",
            " [ 9 10 11 12]]\n",
            "[[ 7  8]\n",
            " [11 12]]\n"
          ],
          "name": "stdout"
        }
      ]
    }
  ]
}