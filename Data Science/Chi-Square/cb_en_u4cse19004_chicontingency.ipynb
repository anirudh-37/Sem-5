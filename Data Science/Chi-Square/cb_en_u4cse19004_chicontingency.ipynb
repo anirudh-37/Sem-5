{
  "nbformat": 4,
  "nbformat_minor": 0,
  "metadata": {
    "colab": {
      "name": "cb.en.u4cse19004_chicontingency.ipynb",
      "provenance": [],
      "collapsed_sections": []
    },
    "kernelspec": {
      "name": "python3",
      "display_name": "Python 3"
    },
    "language_info": {
      "name": "python"
    }
  },
  "cells": [
    {
      "cell_type": "code",
      "metadata": {
        "id": "LYp5T9nQWX8Q"
      },
      "source": [
        "import pandas as pd\n",
        "from scipy.stats import chi2_contingency as chc\n",
        "from scipy.stats import chi2 as ch"
      ],
      "execution_count": 7,
      "outputs": []
    },
    {
      "cell_type": "markdown",
      "metadata": {
        "id": "HDzY8CRGg5_e"
      },
      "source": [
        "1."
      ]
    },
    {
      "cell_type": "code",
      "metadata": {
        "colab": {
          "base_uri": "https://localhost:8080/"
        },
        "id": "QgvsO7unYfod",
        "outputId": "5a0c500e-ea28-4ae3-a067-9c8252015223"
      },
      "source": [
        "table = [[57,87,24],[50,42,6],[42,22,5]]\n",
        "stat,p,dof,exp = chc(table)\n",
        "pv = 9.49\n",
        "alpha = 0.05\n",
        "print(\"P-Value : \" + str(pv))\n",
        "print(\"DOF : \" + str(dof))\n",
        "print(\"Alpha Value: \" + str(alpha))\n",
        "print(\"Expected : \\n\" + str(exp))\n",
        "print(\"Chi : \" + str(stat))\n",
        "if(stat > pv):\n",
        "  print(\"\\nDependent (reject H0)\\n\")\n",
        "else:\n",
        "  print(\"\\nIndependent (accept H0)\\n\")\n",
        "\n",
        "\n",
        "\n"
      ],
      "execution_count": 12,
      "outputs": [
        {
          "output_type": "stream",
          "name": "stdout",
          "text": [
            "P-Value : 9.49\n",
            "DOF : 4\n",
            "Alpha Value: 0.05\n",
            "Expected : \n",
            "[[74.72238806 75.72537313 17.55223881]\n",
            " [43.5880597  44.17313433 10.23880597]\n",
            " [30.68955224 31.10149254  7.20895522]]\n",
            "Chi : 18.564232671266847\n",
            "\n",
            "Dependent (reject H0)\n",
            "\n"
          ]
        }
      ]
    },
    {
      "cell_type": "markdown",
      "metadata": {
        "id": "3M0zB3jng9jw"
      },
      "source": [
        "2."
      ]
    },
    {
      "cell_type": "code",
      "metadata": {
        "colab": {
          "base_uri": "https://localhost:8080/"
        },
        "id": "ZIem1r-Afydo",
        "outputId": "eab643f9-8304-422f-c4e5-c03e214bcba6"
      },
      "source": [
        "table = [[842,736,541],[616,646,842]]\n",
        "stat,p,dof,exp = chc(table)\n",
        "pv = 5.99\n",
        "alpha = 0.05\n",
        "print(\"P-Value : \" + str(pv))\n",
        "print(\"DOF : \" + str(dof))\n",
        "print(\"Alpha Value: \" + str(alpha))\n",
        "print(\"Expected : \\n\" + str(exp))\n",
        "print(\"Chi : \" + str(stat))\n",
        "if(stat > pv):\n",
        "  print(\"\\nDependent (reject H0)\\n\")\n",
        "else:\n",
        "  print(\"\\nIndependent (accept H0)\\n\")"
      ],
      "execution_count": 13,
      "outputs": [
        {
          "output_type": "stream",
          "name": "stdout",
          "text": [
            "P-Value : 5.99\n",
            "DOF : 2\n",
            "Alpha Value: 0.05\n",
            "Expected : \n",
            "[[731.58939143 693.45441629 693.95619228]\n",
            " [726.41060857 688.54558371 689.04380772]]\n",
            "Chi : 106.35116755941061\n",
            "\n",
            "Dependent (reject H0)\n",
            "\n"
          ]
        }
      ]
    },
    {
      "cell_type": "markdown",
      "metadata": {
        "id": "95BQeLBrg_xP"
      },
      "source": [
        "3."
      ]
    },
    {
      "cell_type": "code",
      "metadata": {
        "colab": {
          "base_uri": "https://localhost:8080/"
        },
        "id": "Js5YSnOKgrlf",
        "outputId": "05e8bddd-7955-44e6-b5c6-b68fe982ae0e"
      },
      "source": [
        "table = [[108,15],[34,13]]\n",
        "stat,p,dof,exp = chc(table)\n",
        "pv = 3.81\n",
        "alpha = 0.05\n",
        "print(\"P-Value : \" + str(pv))\n",
        "print(\"DOF : \" + str(dof))\n",
        "print(\"Alpha Value: \" + str(alpha))\n",
        "print(\"Expected : \\n\" + str(exp))\n",
        "print(\"Chi : \" + str(stat))\n",
        "if(stat > pv):\n",
        "  print(\"\\nDependent (reject H0)\\n\")\n",
        "else:\n",
        "  print(\"\\nIndependent (accept H0)\\n\")"
      ],
      "execution_count": 15,
      "outputs": [
        {
          "output_type": "stream",
          "name": "stdout",
          "text": [
            "P-Value : 3.81\n",
            "DOF : 1\n",
            "Alpha Value: 0.05\n",
            "Expected : \n",
            "[[102.74117647  20.25882353]\n",
            " [ 39.25882353   7.74117647]]\n",
            "Chi : 4.840571277518075\n",
            "\n",
            "Dependent (reject H0)\n",
            "\n"
          ]
        }
      ]
    }
  ]
}